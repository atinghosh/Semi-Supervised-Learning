{
 "cells": [
  {
   "cell_type": "code",
   "execution_count": null,
   "metadata": {},
   "outputs": [],
   "source": [
    "#In this notebook we will run SSL algorithms for general x, then we will compare the generalization dynamic for both\n",
    "#our mathematical result and the result we got from simulation"
   ]
  },
  {
   "cell_type": "markdown",
   "metadata": {},
   "source": [
    "In this notebook we assume no manifold structure of $x$. True model $y = Xw_{true} + \\epsilon$  and  $w_{true} = \n",
    "    (||w_{true}||, 0, 0, \\cdots, 0)$ and perturbation $\\eta$ is  orthogonal to $w_{true}$ and hence is given by $(0, \\eta_2, \\cdots, \\eta_D)$, $\\eta_2, \\cdots, \\eta_D$ are generated as iid $\\mathcal{N}(0, \\sigma_{\\eta}^2)$"
   ]
  },
  {
   "cell_type": "code",
   "execution_count": 2,
   "metadata": {},
   "outputs": [],
   "source": [
    "import numpy as np\n",
    "import matplotlib.pyplot as plt \n",
    "import torch\n",
    "from pylab import *\n",
    "import copy"
   ]
  },
  {
   "cell_type": "code",
   "execution_count": 3,
   "metadata": {},
   "outputs": [],
   "source": [
    "sigma_epsilon_square = .5 #model noise\n",
    "sigma_w_square = .5 #true parameeter noise\n",
    "sigma_noise_square = .9 #additive noise for perturbation\n",
    "\n",
    "N = 1000 # total no. of observations, def:2000\n",
    "l = 30 #no. of labelled data\n",
    "u = N-l #no. of unlabelled data\n",
    "\n",
    "p = 200 #Dimension of x\n",
    "\n",
    "lambda1 = 1 #unsupervised cost weight\n",
    "learning_rate = .001 #default learning rate, can be changed \n",
    "nb_epoch = 1500 #number of epoch\n",
    "ema_alpha = .9 #mean teacher and Temporal ensembling EMA weight\n",
    "device = torch.device(\"cuda\")\n",
    "\n",
    "batch_size = 6 #default batch size\n",
    "nsup = 3 #default #of sup data points "
   ]
  },
  {
   "cell_type": "code",
   "execution_count": 4,
   "metadata": {},
   "outputs": [],
   "source": [
    "epsilon = np.random.multivariate_normal(np.zeros(N), np.diag(sigma_epsilon_square*np.ones(N))) \n",
    "true_w = np.concatenate(([np.random.normal(loc=5)],np.zeros(p-1,dtype=float)),axis=0)\n",
    "X = np.random.multivariate_normal(np.zeros(p), np.diag((1/p)*np.ones(p)), size=N) #no particluar structure on X\n",
    "\n",
    "y = np.matmul(X,true_w) + epsilon\n",
    "#separating data into labelled and unlabelled\n",
    "y_l = y[:l]\n",
    "X_l = X[:l]\n",
    "X_u = X[l:]\n",
    "starting_w = np.random.randn(p)\n",
    "\n",
    "X_l = torch.Tensor(X_l)\n",
    "y_l = torch.Tensor(y_l)\n",
    "X_u = torch.Tensor(X_u)\n",
    "X = torch.Tensor(X)\n",
    "\n",
    "X_l, y_l, X, X_u = X_l.to(device), y_l.to(device), X.to(device), X_u.to(device)"
   ]
  },
  {
   "cell_type": "code",
   "execution_count": 5,
   "metadata": {},
   "outputs": [],
   "source": [
    "calculate_tau = lambda X: np.matmul(X.T, X)\n",
    "make_first_element_zero = lambda w: np.asarray([0]+list(w[1:]))\n",
    "\n",
    "def ema_dynamic(w_bar_current, w_current, alpha):\n",
    "    return w_bar_current-(1-alpha)*(w_bar_current-w_current)\n",
    "\n",
    "def sup_loss_gradient(X_l, y, current_w):\n",
    "    tau_l = calculate_tau(X_l)\n",
    "    return np.matmul(tau_l, current_w)-np.matmul(X_l.T,y)\n",
    "\n",
    "def pi_model_vel(X_l, y, current_w, alpha, unsup_lambda):\n",
    "    assert len(current_w) >=2\n",
    "    zero_w_minus = sigma_noise_square * make_first_element_zero(current_w)\n",
    "#     return -alpha*((1/l)*sup_loss_gradient(X_l, y, current_w)+  unsup_lambda * zero_w_minus)\n",
    "    return -1*((1/l)*sup_loss_gradient(X_l, y, current_w)+  unsup_lambda * zero_w_minus)\n",
    "\n",
    "def mean_teacher_vel(X_l, y, current_w, current_w_bar, alpha, ema_alpha, unsup_lambda):\n",
    "    assert len(current_w) >= 2\n",
    "    sup_loss_grad = sup_loss_gradient(X_l, y, current_w)\n",
    "    zero_w_minus = sigma_noise_square * make_first_element_zero(current_w)\n",
    "    un_sup_grad = (1/N)*np.matmul(calculate_tau(X),current_w-current_w_bar) + zero_w_minus\n",
    "#     return -alpha*((1/l)*sup_loss_grad + unsup_lambda * un_sup_grad)\n",
    "    return -1*((1/l)*sup_loss_grad + unsup_lambda * un_sup_grad)\n",
    "\n",
    "def pi_model_dynamic(X_l, y, current_w, alpha, unsup_lambda, delta):\n",
    "    assert len(current_w) >= 2\n",
    "    update = pi_model_vel(X_l, y, current_w, alpha, unsup_lambda)\n",
    "    return current_w + delta * update, update\n",
    "\n",
    "def mean_teacher_dynamic(X_l, y, current_w, current_w_bar, alpha, ema_alpha, unsup_lambda, delta):\n",
    "    assert len(current_w) >=2\n",
    "    update = mean_teacher_vel(X_l, y, current_w, current_w_bar, alpha, ema_alpha, unsup_lambda)\n",
    "    return current_w + delta*update, ema_dynamic(current_w_bar, current_w, ema_alpha), update\n",
    "\n",
    "\n",
    "def run_pi_dynamic(delta, w_start, nb_iteration, lr=.01):\n",
    "    \n",
    "    global X_l, y_l, lambda1, sigma_noise_square\n",
    "    list_of_w = []\n",
    "    \n",
    "    current_w = w_start\n",
    "    for _ in range(nb_iteration):\n",
    "        current_w, _ = pi_model_dynamic(X_l, y_l, current_w, lr, lambda1, delta)\n",
    "        list_of_w.append(current_w)\n",
    "    \n",
    "    return list_of_w\n",
    "\n",
    "def run_mt_dynamic(delta, w_start, nb_iteration, lr=.01):\n",
    "    \n",
    "    global X_l, y_l, X, lambda1, ema_alpha\n",
    "    list_of_w = []\n",
    "    \n",
    "    current_w = w_start\n",
    "    current_w_bar = w_start\n",
    "    for i in range(nb_iteration):\n",
    "        \n",
    "        current_w, current_w_bar, _ = mean_teacher_dynamic(X_l, y_l, current_w, current_w_bar, lr, ema_alpha, lambda1, delta)\n",
    "        list_of_w.append(current_w)\n",
    "    \n",
    "    return list_of_w\n",
    "\n",
    "\n",
    "def pi_model(nb_epoch, learning_rate):\n",
    "    \n",
    "    \n",
    "    global X, X_l, y_l, ema_alpha, lambda1, starting_w\n",
    "    \n",
    "    #w is the student model weight \n",
    "    \n",
    "    w = copy.deepcopy(starting_w)\n",
    "    w = torch.Tensor(w)\n",
    "#     w = torch.randn(p)\n",
    "    w = w.to(device)\n",
    "    w.requires_grad = True\n",
    "    \n",
    "    \n",
    "    optimizer = torch.optim.SGD([w], lr=learning_rate)\n",
    "    \n",
    "    #Gen_error is generalized error, given by ||w-true_w||^2, gen_error is a list which tracks generalized error at epoch\n",
    "    #w_list[i] contains pi_models weights at i-th epoch\n",
    "    w_list = []\n",
    "    gen_error = []\n",
    "    for epoch in range(nb_epoch):\n",
    "\n",
    "        eta = np.random.multivariate_normal(np.zeros(p-1), np.diag(sigma_noise_square*np.ones(p-1)), size=N)\n",
    "        eta = np.concatenate((np.zeros((N,1)),eta),axis=1)\n",
    "        \n",
    "        eta = torch.Tensor(eta)\n",
    "        eta = eta.to(device)\n",
    "        \n",
    "        X_tilda = X + eta\n",
    "\n",
    "        y_pred_all = X.matmul(w)\n",
    "        y_pred_tilda = X_tilda.matmul(w)\n",
    "\n",
    "        unsupervised_loss = (y_pred_all - y_pred_tilda).pow(2).sum()\n",
    "        \n",
    "        y_pred = X_l.matmul(w)\n",
    "        supervised_loss = (y_pred - y_l).pow(2).sum()\n",
    "\n",
    "        final_loss = .5*(supervised_loss/l + lambda1*unsupervised_loss/N)\n",
    "#         final_loss = 1/2*(supervised_loss + lambda1*unsupervised_loss)\n",
    "\n",
    "\n",
    "        if epoch % 100 ==0:\n",
    "            print(final_loss.item())\n",
    "    \n",
    "\n",
    "        optimizer.zero_grad()\n",
    "        final_loss.backward()\n",
    "        optimizer.step()\n",
    "        w_list.append(w.data)\n",
    "        gen_error.append(np.sum((w.data.cpu().numpy()-true_w)**2))\n",
    "\n",
    "        \n",
    "    return gen_error, w_list\n",
    "\n",
    "\n",
    "def mean_teacher(nb_epoch, learning_rate):\n",
    "\n",
    "    global X, X_l, y_l, ema_alpha, lambda1, starting_w\n",
    "    \n",
    "    w = copy.deepcopy(starting_w)\n",
    "    w = torch.Tensor(w)\n",
    "#     w = torch.randn(p)    \n",
    "    w = w.to(device)\n",
    "    w.requires_grad = True\n",
    "    \n",
    "    optimizer = torch.optim.SGD([w], lr=learning_rate)\n",
    "    \n",
    "    #Gen_error is generalized error, given by ||w-true_w||^2, gen_error is a list which tracks generalized error at epoch\n",
    "    #w_mt_list[i] contains mean teacher weights at i-th epoch\n",
    "    #w_prime_list contains exponential moving average for mean teacher \n",
    "    w_mt_list = []\n",
    "    w_prime_list = []\n",
    "    gen_error = []\n",
    "    for epoch in range(nb_epoch):\n",
    "        \n",
    "        eta = np.random.multivariate_normal(np.zeros(p-1), np.diag(sigma_noise_square*np.ones(p-1)), size=N)\n",
    "        eta = np.concatenate((np.zeros((N,1)),eta),axis=1)\n",
    "        eta = torch.Tensor(eta)\n",
    "        \n",
    "        eta = eta.to(device)\n",
    "        eta_prime = np.random.multivariate_normal(np.zeros(p-1), np.diag(sigma_noise_square*np.ones(p-1)), size=N)\n",
    "        eta_prime = np.concatenate((np.zeros((N,1)),eta_prime),axis=1)\n",
    "        eta_prime = torch.Tensor(eta_prime)\n",
    "        eta_prime = eta_prime.to(device)\n",
    "        \n",
    "        X_tilda = X + eta\n",
    "        X_prime = X + eta_prime\n",
    "\n",
    "        y_pred = X_l.matmul(w)\n",
    "        supervised_loss = (y_pred - y_l).pow(2).sum()\n",
    "\n",
    "\n",
    "        y_pred_all = X.matmul(w)\n",
    "        y_pred_tilda = X_tilda.matmul(w)\n",
    "\n",
    "        if epoch !=0:\n",
    "            w_prime = ema_alpha * w_prime_list[-1] + (1-ema_alpha)*w\n",
    "            w_prime_list.append(w_prime)\n",
    "            y_pred_prime = X_prime.matmul(w_prime).detach()\n",
    "            unsupervised_loss = (y_pred_tilda-y_pred_prime).pow(2).sum()\n",
    "\n",
    "        else:\n",
    "            unsupervised_loss = 0\n",
    "            w_prime_list.append(w)\n",
    "\n",
    "        final_loss = .5*(supervised_loss/l + lambda1*unsupervised_loss/N)\n",
    "#         final_loss = 1/2*(supervised_loss + lambda1*unsupervised_loss)\n",
    "        if epoch % 100 ==0:\n",
    "            print(final_loss.item())\n",
    "    \n",
    "\n",
    "\n",
    "        optimizer.zero_grad()\n",
    "        final_loss.backward()\n",
    "        optimizer.step()\n",
    "        w_mt_list.append(w.data)\n",
    "        gen_error.append(np.sum((w.data.cpu().numpy()-true_w)**2))\n",
    "    return gen_error, w_mt_list\n",
    "\n",
    "def calculate_w_limit():\n",
    "    \n",
    "    global X_l, y_l, lambda1, p, sigma_noise_square\n",
    "    X_l_tau = (1/l)*calculate_tau(X_l)\n",
    "    X_l_tau[1:, 1:] =  X_l_tau[1:, 1:] + lambda1 * sigma_noise_square * np.eye(p-1)\n",
    "    X_l_tau_inv = np.linalg.inv(X_l_tau)\n",
    "    X_l_t_y = (1/l)*np.matmul(X_l.T,y_l)\n",
    "    return np.matmul(X_l_tau_inv, X_l_t_y)\n"
   ]
  },
  {
   "cell_type": "code",
   "execution_count": 6,
   "metadata": {},
   "outputs": [],
   "source": [
    "def pi_model_minibatch(nb_epoch, lr, nsup, batch_size, optimizer_algo=\"SGD\"):\n",
    "\n",
    "    global X_l, y_l, X, p, starting_w, lambda1\n",
    "    #Initilaize w by random normal, w is the student model weight  \n",
    "    w = copy.deepcopy(starting_w)\n",
    "    w = torch.Tensor(w)\n",
    "    w = w.to(device)\n",
    "    w.requires_grad = True\n",
    "    \n",
    "    #We use SGD\n",
    "    if optimizer_algo ==\"ADAM\":\n",
    "        optimizer = torch.optim.Adam([w], lr=lr)\n",
    "    else:\n",
    "        optimizer = torch.optim.SGD([w], lr=lr)\n",
    "    \n",
    "    #Gen_error is generalized error, given by ||w-true_w||^2, gen_error is a list which tracks generalized error at epoch\n",
    "    #w_list[i] contains weights at i-th epoch\n",
    "    w_list = []\n",
    "    gen_error = []\n",
    "    \n",
    "    nunsup = batch_size-nsup\n",
    "    nb_batch = X_u.shape[0] // nunsup\n",
    "    step = 0 \n",
    "    for epoch in range(nb_epoch):\n",
    "        \n",
    "        np.random.shuffle(X_u)\n",
    "        new_shuffled_index = np.random.permutation(X_l.shape[0])\n",
    "        X_l = X_l[new_shuffled_index]\n",
    "        y_l = y_l[new_shuffled_index]\n",
    "        \n",
    "        i = 0 #track unsupervised part\n",
    "        j = 0 #track supervised part\n",
    "        while i <= nb_batch:\n",
    "            gen_error.append(np.linalg.norm(w.cpu().data.numpy()-true_w))\n",
    "            X_unsup_batch = X_u[i:i+nunsup]\n",
    "            i +=nunsup\n",
    "            \n",
    "            X_sup_batch = X_l[j:j+nsup]\n",
    "            y_l_batch = y_l[j:j+nsup]\n",
    "            j +=nsup\n",
    "            if j > X_l.shape[0]:\n",
    "                j=0\n",
    "            \n",
    "            y_pred = X_sup_batch.matmul(w)\n",
    "            supervised_loss = (y_pred - y_l_batch).pow(2).sum()\n",
    "            \n",
    "            eta = np.random.multivariate_normal(np.zeros(p-1), np.diag(sigma_noise_square*np.ones(p-1)), size=nunsup)\n",
    "            eta = np.concatenate((np.zeros((nunsup,1)),eta),axis=1)\n",
    "            \n",
    "#             eta = get_a_matrix_from_basis(orth_basis, dim=nunsup)\n",
    "            eta = torch.Tensor(eta)\n",
    "            eta = eta.to(device)\n",
    "        \n",
    "            X_unsup_batch_tilda = X_unsup_batch + eta\n",
    "\n",
    "            y_pred_all = X_unsup_batch.matmul(w)\n",
    "            y_pred_tilda = X_unsup_batch_tilda.matmul(w)\n",
    "\n",
    "            unsupervised_loss = (y_pred_all - y_pred_tilda).pow(2).sum()\n",
    "            \n",
    "            final_loss = .5*(supervised_loss/nsup + lambda1*unsupervised_loss/nunsup)\n",
    "            \n",
    "            optimizer.zero_grad()\n",
    "            final_loss.backward()\n",
    "            optimizer.step()\n",
    "            step +=1\n",
    "            w_list.append(w.data)\n",
    "        \n",
    "            if step % 100 ==0:\n",
    "                    print(final_loss.item())\n",
    "    \n",
    "    print(step)\n",
    "    return gen_error, w_list\n",
    "\n",
    "\n",
    "def mean_teacher_minibatch(nb_epoch, lr, nsup, batch_size, optimizer_algo=\"SGD\"):\n",
    "\n",
    "    global X_l, y_l, X_u, p, starting_w, lambda1, ema_alpha\n",
    "    #Initilaize w by random normal, w is the student model weight  \n",
    "    w = copy.deepcopy(starting_w)\n",
    "    w = torch.Tensor(w)\n",
    "    w = w.to(device)\n",
    "    w.requires_grad = True\n",
    "    \n",
    "    #We use SGD\n",
    "    if optimizer_algo ==\"ADAM\":\n",
    "        optimizer = torch.optim.Adam([w], lr=lr)\n",
    "    else:\n",
    "        optimizer = torch.optim.SGD([w], lr=lr)\n",
    "    \n",
    "    #Gen_error is generalized error, given by ||w-true_w||^2, gen_error is a list which tracks generalized error at epoch\n",
    "    #w_list[i] contains weights at i-th epoch\n",
    "    w_list = []\n",
    "    gen_error = []\n",
    "    w_prime_list = []    \n",
    "    \n",
    "    nunsup = batch_size-nsup\n",
    "    nb_batch = X_u.shape[0] // nunsup\n",
    "#     training_loss = []\n",
    "    \n",
    "    \n",
    "    for epoch in range(nb_epoch):\n",
    "        \n",
    "        np.random.shuffle(X_u)\n",
    "        new_shuffled_index = np.random.permutation(X_l.shape[0])\n",
    "        X_l = X_l[new_shuffled_index]\n",
    "        y_l = y_l[new_shuffled_index]\n",
    "        \n",
    "        i = 0 #track unsupervised part\n",
    "        j = 0 #track supervised part\n",
    "        while i <= nb_batch:\n",
    "            X_unsup_batch = X_u[i:i+nunsup]\n",
    "            i +=nunsup\n",
    "            \n",
    "            X_sup_batch = X_l[j:j+nsup]\n",
    "            y_l_batch = y_l[j:j+nsup]\n",
    "            j +=nsup\n",
    "            if j > X_l.shape[0]:\n",
    "                j=0\n",
    "            \n",
    "            y_pred = X_sup_batch.matmul(w)\n",
    "            supervised_loss = (y_pred - y_l_batch).pow(2).sum()\n",
    "            \n",
    "            eta = np.random.multivariate_normal(np.zeros(p-1), np.diag(sigma_noise_square*np.ones(p-1)), size=nunsup)\n",
    "            eta = np.concatenate((np.zeros((nunsup,1)),eta),axis=1)\n",
    "#             eta = get_a_matrix_from_basis(orth_basis, dim=nunsup)\n",
    "            eta = torch.Tensor(eta)\n",
    "            eta = eta.to(device)\n",
    "            \n",
    "            eta_prime = np.random.multivariate_normal(np.zeros(p-1), np.diag(sigma_noise_square*np.ones(p-1)), size=nunsup)\n",
    "            eta_prime = np.concatenate((np.zeros((nunsup,1)),eta_prime),axis=1)\n",
    "            \n",
    "#             eta_prime = get_a_matrix_from_basis(orth_basis, dim=nunsup)\n",
    "            eta_prime = torch.Tensor(eta_prime)\n",
    "            eta_prime = eta_prime.to(device)\n",
    "        \n",
    "            X_unsup_batch_tilda = X_unsup_batch + eta\n",
    "            X_unsup_batch_prime = X_unsup_batch + eta_prime\n",
    "\n",
    "            y_pred_all = X_unsup_batch.matmul(w)\n",
    "            y_pred_tilda = X_unsup_batch_tilda.matmul(w)\n",
    "            \n",
    "            \n",
    "\n",
    "            if epoch !=0:\n",
    "                w_prime = ema_alpha * w_prime_list[-1] + (1-ema_alpha)*w\n",
    "                w_prime_list.append(w_prime)\n",
    "                y_pred_prime = X_unsup_batch_prime.matmul(w_prime).detach()\n",
    "                unsupervised_loss = (y_pred_tilda-y_pred_prime).pow(2).sum()\n",
    "\n",
    "            else:\n",
    "                unsupervised_loss = 0\n",
    "                w_prime_list.append(w)\n",
    "\n",
    "                unsupervised_loss = (y_pred_all - y_pred_tilda).pow(2).sum()\n",
    "            \n",
    "            final_loss = .5*(supervised_loss/nsup + lambda1*unsupervised_loss/nunsup)\n",
    "            \n",
    "            optimizer.zero_grad()\n",
    "            final_loss.backward()\n",
    "            optimizer.step()\n",
    "#             training_loss.append(final_loss.item())\n",
    "            w_list.append(w.data)\n",
    "            gen_error.append(np.linalg.norm(w.cpu().data.numpy()-true_w))\n",
    "        \n",
    "        if epoch % 50 ==0:\n",
    "                print(final_loss.item())\n",
    "    \n",
    "    return gen_error, w_list"
   ]
  },
  {
   "cell_type": "code",
   "execution_count": 54,
   "metadata": {},
   "outputs": [
    {
     "name": "stdout",
     "output_type": "stream",
     "text": [
      "0.27821019291877747\n",
      "0.21656429767608643\n",
      "0.14955654740333557\n",
      "0.4297211766242981\n",
      "0.40154898166656494\n",
      "0.3567220866680145\n",
      "0.12539416551589966\n",
      "0.3631409704685211\n",
      "0.47474032640457153\n",
      "900\n"
     ]
    }
   ],
   "source": [
    "if isinstance(X_l,np.ndarray):\n",
    "    X_l = torch.Tensor(X_l)\n",
    "    y_l = torch.Tensor(y_l)\n",
    "    X = torch.Tensor(X)\n",
    "\n",
    "    X_l, y_l, X = X_l.to(device), y_l.to(device), X.to(device)\n",
    "    \n",
    "# minibatch_gen_error_pi_high, minibatch_pi_list = pi_model_minibatch(nb_epoch=300, lr= .06, \n",
    "#                                                                nsup=10, batch_size=30, optimizer_algo=\"SGD\")\n",
    "\n",
    "minibatch_gen_error_pi_very_high, minibatch_pi_list = pi_model_minibatch(nb_epoch=300, lr= .12, \n",
    "                                                               nsup=10, batch_size=30, optimizer_algo=\"SGD\")\n",
    "\n",
    "# minibatch_gen_error_pi, minibatch_pi_list = pi_model_minibatch(nb_epoch=300, lr= .03, \n",
    "#                                                                nsup=10, batch_size=30, optimizer_algo=\"SGD\")\n",
    "# minibatch_gen_error_pi_lower, minibatch_pi_list = pi_model_minibatch(nb_epoch=300, lr= .01, \n",
    "#                                                                nsup=10, batch_size=30, optimizer_algo=\"SGD\")\n",
    "# minibatch_gen_error_pi_lower2, minibatch_pi_list = pi_model_minibatch(nb_epoch=900, lr= .001, \n",
    "#                                                                nsup=10, batch_size=30, optimizer_algo=\"SGD\")\n"
   ]
  },
  {
   "cell_type": "markdown",
   "metadata": {},
   "source": [
    "ODE for pi model\n",
    "$$ \\dot{w}=-\\left[\\frac{1}{l}\\left(X_{l}^{T} X_{l} w-X_{l}^{T} y\\right)+\\lambda \\sigma_{\\xi}^{2} \\left( \\begin{array}{c}{0} \\\\ {w_{-}}\\end{array}\\right)\\right]$$"
   ]
  },
  {
   "cell_type": "code",
   "execution_count": 8,
   "metadata": {},
   "outputs": [],
   "source": [
    "#Parameter trajectory from diff eqn. updates for Pi model  \n",
    "if isinstance(X_l,torch.Tensor):\n",
    "    X_l, y_l, X  = X_l.cpu().numpy(), y_l.cpu().numpy(), X.cpu().numpy()\n",
    "\n",
    "list_of_w_pi_eq = run_pi_dynamic(.001, starting_w, 18000, lr=.0001)\n",
    "gen_error_diff_eq_pi = [np.sqrt(np.sum((true_w-w)**2)) for w in list_of_w_pi_eq]"
   ]
  },
  {
   "cell_type": "code",
   "execution_count": 53,
   "metadata": {},
   "outputs": [
    {
     "name": "stdout",
     "output_type": "stream",
     "text": [
      "63.2667350769043\n",
      "4.103153705596924\n",
      "0.5658431053161621\n",
      "0.42823168635368347\n",
      "0.3073520064353943\n",
      "0.2840346097946167\n"
     ]
    }
   ],
   "source": [
    "if isinstance(X_l,np.ndarray):\n",
    "    X_l = torch.Tensor(X_l)\n",
    "    y_l = torch.Tensor(y_l)\n",
    "    X = torch.Tensor(X)\n",
    "    y = torch.Tensor(y)\n",
    "\n",
    "    X_l, y_l, X, y = X_l.to(device), y_l.to(device), X.to(device), y.to(device)\n",
    "\n",
    "minibatch_gen_error_mt_point2, minibatch_mt_list = mean_teacher_minibatch(nb_epoch=300, lr= .12, \n",
    "                                                               nsup=10, batch_size=30, optimizer_algo=\"SGD\")\n",
    "# minibatch_gen_error_mt_point06, minibatch_mt_list = mean_teacher_minibatch(nb_epoch=300, lr= .06, \n",
    "#                                                                nsup=10, batch_size=30, optimizer_algo=\"SGD\")\n",
    "# minibatch_gen_error_mt_point03, minibatch_mt_list = mean_teacher_minibatch(nb_epoch=300, lr= .03, \n",
    "#                                                                nsup=10, batch_size=30, optimizer_algo=\"SGD\")\n",
    "# minibatch_gen_error_mt_point01, minibatch_mt_list = mean_teacher_minibatch(nb_epoch=300, lr= .01, \n",
    "#                                                                nsup=10, batch_size=30, optimizer_algo=\"SGD\")\n",
    "# minibatch_gen_error_mt_lower001, minibatch_mt_list = mean_teacher_minibatch(nb_epoch=900, lr= .001, \n",
    "#                                                                nsup=10, batch_size=30, optimizer_algo=\"SGD\")"
   ]
  },
  {
   "cell_type": "code",
   "execution_count": null,
   "metadata": {},
   "outputs": [],
   "source": [
    "X_l, y_l, X, y  = X_l.cpu().numpy(), y_l.cpu().numpy(), X.cpu().numpy(), y.cpu().numpy()"
   ]
  },
  {
   "cell_type": "code",
   "execution_count": 41,
   "metadata": {},
   "outputs": [],
   "source": [
    "if isinstance(X_l,torch.Tensor):\n",
    "    X_l, y_l, X, y  = X_l.cpu().numpy(), y_l.cpu().numpy(), X.cpu().numpy(), y.cpu().numpy()\n",
    "list_of_w_mt_eq = run_mt_dynamic(.001, starting_w, 18000, lr=.0001)\n",
    "gen_error_diff_eq_mt = [np.sqrt(np.sum((true_w-w)**2)) for w in list_of_w_mt_eq]"
   ]
  },
  {
   "cell_type": "code",
   "execution_count": 42,
   "metadata": {},
   "outputs": [
    {
     "data": {
      "application/pdf": "[encoded data removed]",
      "image/png": "[encoded data removed]",
      "text/plain": [
       "<Figure size 432x288 with 1 Axes>"
      ]
     },
     "metadata": {
      "needs_background": "light"
     },
     "output_type": "display_data"
    }
   ],
   "source": [
    "plt.plot(x_scale(.06, len(minibatch_gen_error_mt)), minibatch_gen_error_mt, color = \"r\",label=\"alpha=.06\")\n",
    "plt.plot(x_scale(.02, len(minibatch_gen_error_mt_lower)), minibatch_gen_error_mt_lower, color = \"b\", label=\"alpha=.04\")\n",
    "plt.plot(x_scale(.01, len(minibatch_gen_error_mt_lower2)), minibatch_gen_error_mt_lower2, color = \"g\", label=\"alpha=.01\")\n",
    "plt.plot(x_scale(.001, len(gen_error_diff_eq_mt)), gen_error_diff_eq_mt, color = \"m\", label=\"diff_eq_dynamic\")\n",
    "\n",
    "plt.legend()\n",
    "plt.title(\"mean teacher\")\n",
    "plt.show()"
   ]
  },
  {
   "cell_type": "code",
   "execution_count": 70,
   "metadata": {},
   "outputs": [],
   "source": [
    "scale_down = lambda x: [i/20 for i in x] "
   ]
  },
  {
   "cell_type": "code",
   "execution_count": 94,
   "metadata": {},
   "outputs": [
    {
     "data": {
      "image/png": "[encoded data removed]",
      "text/plain": [
       "<Figure size 800x320 with 2 Axes>"
      ]
     },
     "metadata": {
      "image/png": {
       "height": 309,
       "width": 679
      },
      "needs_background": "light"
     },
     "output_type": "display_data"
    }
   ],
   "source": [
    "plt.rcParams.update({'font.size': 10})\n",
    "f, axs = plt.subplots(1,2, figsize=(10,4), dpi=80, sharey='row')\n",
    "ax = axs[0]\n",
    "ax.plot(x_scale(.2, 900), scale_down(minibatch_gen_error_pi_very_high), label=\"lr=.12\", linewidth=2)\n",
    "ax.plot(x_scale(.06, len(minibatch_gen_error_pi_high)), scale_down(minibatch_gen_error_pi_high), label=\"lr=.06\", linewidth=2)\n",
    "ax.plot(x_scale(.03, len(minibatch_gen_error_pi)), scale_down(minibatch_gen_error_pi), color = \"r\", label=\"lr=.03\", linewidth=2)\n",
    "ax.plot(x_scale(.01, len(minibatch_gen_error_pi_lower)), scale_down(minibatch_gen_error_pi_lower), color = \"b\", label=\"lr=.01\", linewidth=2)\n",
    "ax.plot(x_scale(.001, len(minibatch_gen_error_pi_lower2)), scale_down(minibatch_gen_error_pi_lower2), color = \"g\", label=\"lr=.001\", linewidth=2)\n",
    "ax.plot(x_scale(.001, len(gen_error_diff_eq_pi)), scale_down(gen_error_diff_eq_pi), color = \"m\", label=\"diff_eq_dynamic\", linewidth=3)\n",
    "ax.grid(True)\n",
    "ax.legend()\n",
    "ax.set_ylabel('Generalization Error')\n",
    "ax.set_xlabel('lr x iteration')\n",
    "ax.set_title(\"Pi Model\")\n",
    "ax = axs[1]\n",
    "ax.plot(x_scale(.1, 900), scale_down(minibatch_gen_error_mt_point2), label=\"lr=.12\", linewidth=2)\n",
    "ax.plot(x_scale(.06, len(minibatch_gen_error_mt_point06)), scale_down(minibatch_gen_error_mt_point06), label=\"lr=.06\", linewidth=2)\n",
    "ax.plot(x_scale(.03, len(minibatch_gen_error_mt_point03)), scale_down(minibatch_gen_error_mt_point03), color = \"r\", label=\"lr=.03\", linewidth=2)\n",
    "ax.plot(x_scale(.01, len(minibatch_gen_error_mt_point01)), scale_down(minibatch_gen_error_mt_point01), color = \"b\", label=\"lr=.01\", linewidth=2)\n",
    "ax.plot(x_scale(.001, len(minibatch_gen_error_mt_lower001)), scale_down(minibatch_gen_error_mt_lower001), color = \"g\", label=\"lr=.001\", linewidth=2)\n",
    "ax.plot(x_scale(.001, len(gen_error_diff_eq_mt)), scale_down(gen_error_diff_eq_mt), color = \"m\", label=\"diff_eq_dynamic\", linewidth=3)\n",
    "ax.grid(True)\n",
    "ax.legend()\n",
    "ax.set_xlabel('lr x iteration')\n",
    "ax.set_title(\"Mean Teacher\")\n",
    "\n",
    "\n",
    "# plt.ylabel('Generalization Error')\n",
    "# plt.tight_layout()\n",
    "plt.savefig('sample.pdf')\n",
    "plt.show()"
   ]
  },
  {
   "cell_type": "code",
   "execution_count": null,
   "metadata": {},
   "outputs": [],
   "source": []
  },
  {
   "cell_type": "code",
   "execution_count": null,
   "metadata": {},
   "outputs": [],
   "source": []
  },
  {
   "cell_type": "code",
   "execution_count": null,
   "metadata": {},
   "outputs": [],
   "source": []
  },
  {
   "cell_type": "code",
   "execution_count": null,
   "metadata": {},
   "outputs": [],
   "source": []
  },
  {
   "cell_type": "code",
   "execution_count": null,
   "metadata": {},
   "outputs": [],
   "source": []
  },
  {
   "cell_type": "code",
   "execution_count": null,
   "metadata": {},
   "outputs": [],
   "source": []
  },
  {
   "cell_type": "code",
   "execution_count": null,
   "metadata": {},
   "outputs": [],
   "source": []
  },
  {
   "cell_type": "code",
   "execution_count": null,
   "metadata": {},
   "outputs": [],
   "source": []
  },
  {
   "cell_type": "code",
   "execution_count": null,
   "metadata": {},
   "outputs": [],
   "source": []
  },
  {
   "cell_type": "code",
   "execution_count": null,
   "metadata": {},
   "outputs": [],
   "source": []
  },
  {
   "cell_type": "code",
   "execution_count": null,
   "metadata": {
    "scrolled": true
   },
   "outputs": [],
   "source": [
    "# # print(\"pi_model.........................................\")\n",
    "# # gen_error_pi, w_pi_list = pi_model(10000,.01)\n",
    "# print(\"mean_teacher.....................................\")\n",
    "# gen_error_mt, w_mt_list = mean_teacher(10000,.1)"
   ]
  },
  {
   "cell_type": "code",
   "execution_count": null,
   "metadata": {},
   "outputs": [],
   "source": []
  },
  {
   "cell_type": "code",
   "execution_count": null,
   "metadata": {},
   "outputs": [],
   "source": []
  },
  {
   "cell_type": "code",
   "execution_count": null,
   "metadata": {},
   "outputs": [],
   "source": [
    "# plt.plot(gen_error_pi)\n",
    "# plt.plot(gen_error_mt, color=\"r\")"
   ]
  },
  {
   "cell_type": "code",
   "execution_count": null,
   "metadata": {},
   "outputs": [],
   "source": []
  },
  {
   "cell_type": "code",
   "execution_count": null,
   "metadata": {},
   "outputs": [],
   "source": []
  },
  {
   "cell_type": "code",
   "execution_count": null,
   "metadata": {},
   "outputs": [],
   "source": []
  },
  {
   "cell_type": "code",
   "execution_count": null,
   "metadata": {},
   "outputs": [],
   "source": []
  },
  {
   "cell_type": "code",
   "execution_count": null,
   "metadata": {},
   "outputs": [],
   "source": []
  },
  {
   "cell_type": "code",
   "execution_count": null,
   "metadata": {},
   "outputs": [],
   "source": []
  },
  {
   "cell_type": "code",
   "execution_count": null,
   "metadata": {},
   "outputs": [],
   "source": []
  },
  {
   "cell_type": "code",
   "execution_count": null,
   "metadata": {},
   "outputs": [],
   "source": [
    "# w_pi_list[-1]"
   ]
  },
  {
   "cell_type": "code",
   "execution_count": null,
   "metadata": {},
   "outputs": [],
   "source": [
    "# w_mt_list[-1]"
   ]
  },
  {
   "cell_type": "code",
   "execution_count": null,
   "metadata": {},
   "outputs": [],
   "source": [
    "# true_w"
   ]
  },
  {
   "cell_type": "code",
   "execution_count": null,
   "metadata": {},
   "outputs": [],
   "source": [
    "# w_first_element_pi = [w[0] for w in list_of_w_pi_eq]\n",
    "# w_first_element_mt = [w[0] for w in list_of_w_mt_eq]\n",
    "# plt.plot(w_first_element_pi[:10000])\n",
    "# plt.plot(w_first_element_mt[:10000], color = \"r\")"
   ]
  },
  {
   "cell_type": "code",
   "execution_count": null,
   "metadata": {},
   "outputs": [],
   "source": [
    "# plt.plot(gen_error_diff_eq_pi[:2000])\n",
    "# plt.plot(gen_error_diff_eq_mt[:2000], color = \"r\")"
   ]
  },
  {
   "cell_type": "code",
   "execution_count": null,
   "metadata": {},
   "outputs": [],
   "source": [
    "# plt.plot(gen_error_pi)\n",
    "# plt.plot(gen_error_mt, color=\"r\")"
   ]
  },
  {
   "cell_type": "code",
   "execution_count": null,
   "metadata": {},
   "outputs": [],
   "source": [
    "# list_of_w_pi_eq[-1]"
   ]
  },
  {
   "cell_type": "code",
   "execution_count": null,
   "metadata": {},
   "outputs": [],
   "source": [
    "# list_of_w_mt_eq[-1]"
   ]
  },
  {
   "cell_type": "code",
   "execution_count": null,
   "metadata": {},
   "outputs": [],
   "source": []
  }
 ],
 "metadata": {
  "anaconda-cloud": {},
  "kernelspec": {
   "display_name": "Python [conda env:pytorch] *",
   "language": "python",
   "name": "conda-env-pytorch-py"
  },
  "language_info": {
   "codemirror_mode": {
    "name": "ipython",
    "version": 3
   },
   "file_extension": ".py",
   "mimetype": "text/x-python",
   "name": "python",
   "nbconvert_exporter": "python",
   "pygments_lexer": "ipython3",
   "version": "3.6.7"
  }
 },
 "nbformat": 4,
 "nbformat_minor": 2
}
